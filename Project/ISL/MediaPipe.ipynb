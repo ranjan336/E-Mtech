{
 "cells": [
  {
   "cell_type": "code",
   "execution_count": null,
   "metadata": {},
   "outputs": [],
   "source": [
    "pip install mediapipe"
   ]
  },
  {
   "cell_type": "code",
   "execution_count": null,
   "metadata": {},
   "outputs": [],
   "source": [
    "pip install opencv-python"
   ]
  },
  {
   "cell_type": "code",
   "execution_count": null,
   "metadata": {},
   "outputs": [],
   "source": [
    "import cv2\n",
    "import mediapipe as mp\n"
   ]
  },
  {
   "cell_type": "code",
   "execution_count": null,
   "metadata": {},
   "outputs": [],
   "source": [
    "mp_hands = mp.solutions.hands\n",
    "hands = mp_hands.Hands()\n",
    "\n",
    "hands.process()"
   ]
  },
  {
   "cell_type": "code",
   "execution_count": null,
   "metadata": {},
   "outputs": [],
   "source": [
    "mp_hands."
   ]
  },
  {
   "cell_type": "code",
   "execution_count": null,
   "metadata": {},
   "outputs": [],
   "source": [
    "video_path = r\"C:\\Users\\ranjan.patra\\OneDrive - Lingaro Sp. z o. o\\DATA\\IITJ\\Course\\Projects\\ISL\\ISL_DICTIONARY\\I\\ISL Dictionary\\A\\Alien_species.mp4\"\n",
    "cap = cv2.VideoCapture(video_path)\n"
   ]
  },
  {
   "cell_type": "code",
   "execution_count": null,
   "metadata": {},
   "outputs": [],
   "source": [
    "import cv2\n",
    "import mediapipe as mp\n",
    "\n",
    "# Initialize MediaPipe Hands\n",
    "mp_hands = mp.solutions.hands\n",
    "hands = mp_hands.Hands()\n",
    "\n",
    "# Video Capture (adjust the file path as needed)\n",
    "video_path = r\"C:\\Users\\ranjan.patra\\OneDrive - Lingaro Sp. z o. o\\DATA\\IITJ\\Course\\Projects\\ISL\\ISL_DICTIONARY\\I\\ISL Dictionary\\A\\Alien_species.mp4\"\n",
    "cap = cv2.VideoCapture(video_path)\n",
    "\n",
    "while cap.isOpened():\n",
    "    ret, frame = cap.read()\n",
    "    if not ret:\n",
    "        break\n",
    "\n",
    "    # Convert the BGR image to RGB\n",
    "    rgb_frame = cv2.cvtColor(frame, cv2.COLOR_BGR2RGB)\n",
    "\n",
    "    # Process the frame using the MediaPipe hands module\n",
    "    results = hands.process(rgb_frame)\n",
    "\n",
    "    # Your custom processing logic here\n",
    "    if results.multi_hand_landmarks:\n",
    "        for hand_index, hand_landmarks in enumerate(results.multi_hand_landmarks):\n",
    "            print(f\"Frame {cap.get(cv2.CAP_PROP_POS_FRAMES)} - Hand {hand_index + 1}:\")\n",
    "            print(f\"Number of landmarks: {len(hand_landmarks.landmark)}\")\n",
    "\n",
    "            for landmark_index, landmark in enumerate(hand_landmarks.landmark):\n",
    "                print(f\"Landmark {landmark_index + 1}: x={landmark.x}, y={landmark.y}, z={landmark.z}\")\n",
    "\n",
    "    # Display the frame\n",
    "    cv2.imshow('Processed Frame', frame)\n",
    "\n",
    "    # Break the loop if 'q' key is pressed\n",
    "    if cv2.waitKey(1) & 0xFF == ord('q'):\n",
    "        break\n",
    "\n",
    "# Release the video capture object and destroy windows\n",
    "cap.release()\n",
    "cv2.destroyAllWindows()\n"
   ]
  },
  {
   "cell_type": "code",
   "execution_count": null,
   "metadata": {},
   "outputs": [],
   "source": [
    "import cv2\n",
    "import mediapipe as mp\n",
    "\n",
    "# Initialize MediaPipe Hands and Face Detection modules\n",
    "mp_hands = mp.solutions.hands\n",
    "mp_face_detection = mp.solutions.face_detection\n",
    "\n",
    "hands = mp_hands.Hands()\n",
    "face_detection = mp_face_detection.FaceDetection()\n",
    "\n",
    "# Video Capture (adjust the file path as needed)\n",
    "video_path = r\"C:\\Users\\ranjan.patra\\OneDrive - Lingaro Sp. z o. o\\DATA\\IITJ\\Course\\Projects\\ISL\\ISL_DICTIONARY\\I\\ISL Dictionary\\A\\Alien_species.mp4\"\n",
    "cap = cv2.VideoCapture(video_path)\n",
    "\n",
    "while cap.isOpened():\n",
    "    ret, frame = cap.read()\n",
    "    if not ret:\n",
    "        break\n",
    "\n",
    "    # Convert the BGR image to RGB\n",
    "    rgb_frame = cv2.cvtColor(frame, cv2.COLOR_BGR2RGB)\n",
    "\n",
    "    # Process the frame using the MediaPipe hands module\n",
    "    hands_results = hands.process(rgb_frame)\n",
    "\n",
    "    # Process the frame using the MediaPipe face detection module\n",
    "    face_results = face_detection.process(rgb_frame)\n",
    "\n",
    "    # Your custom processing logic for hands\n",
    "    if hands_results.multi_hand_landmarks:\n",
    "        for hand_index, hand_landmarks in enumerate(hands_results.multi_hand_landmarks):\n",
    "            print(f\"Frame {cap.get(cv2.CAP_PROP_POS_FRAMES)} - Hand {hand_index + 1}:\")\n",
    "            print(f\"Number of landmarks: {len(hand_landmarks.landmark)}\")\n",
    "            # Additional hand processing logic if needed\n",
    "            for landmark_index, landmark in enumerate(hand_landmarks.landmark):\n",
    "                print(f\"Landmark {landmark_index + 1}: x={landmark.x}, y={landmark.y}, z={landmark.z}\")\n",
    "\n",
    "    # Your custom processing logic for faces\n",
    "    if face_results.detections:\n",
    "        for face_index, detection in enumerate(face_results.detections):\n",
    "            print(f\"Frame {cap.get(cv2.CAP_PROP_POS_FRAMES)} - Face {face_index + 1}:\")\n",
    "            print(f\"Face detection confidence: {detection.score[0]}\")\n",
    "            # Additional face processing logic if needed\n",
    "\n",
    "            for landmark_index, landmark in enumerate(hand_landmarks.landmark):\n",
    "                print(f\"Landmark {landmark_index + 1}: x={landmark.x}, y={landmark.y}, z={landmark.z}\") \n",
    "\n",
    "    # Display the frame\n",
    "    cv2.imshow('Processed Frame', frame)\n",
    "\n",
    "    # Break the loop if 'q' key is pressed\n",
    "    if cv2.waitKey(1) & 0xFF == ord('q'):\n",
    "        break\n",
    "\n",
    "# Release the video capture object and destroy windows\n",
    "cap.release()\n",
    "cv2.destroyAllWindows()\n"
   ]
  },
  {
   "cell_type": "code",
   "execution_count": null,
   "metadata": {},
   "outputs": [],
   "source": [
    "mp.solutions.holistic.\n"
   ]
  }
 ],
 "metadata": {
  "interpreter": {
   "hash": "26de051ba29f2982a8de78e945f0abaf191376122a1563185a90213a26c5da77"
  },
  "kernelspec": {
   "display_name": "Python 3.10.2 64-bit",
   "language": "python",
   "name": "python3"
  },
  "language_info": {
   "codemirror_mode": {
    "name": "ipython",
    "version": 3
   },
   "file_extension": ".py",
   "mimetype": "text/x-python",
   "name": "python",
   "nbconvert_exporter": "python",
   "pygments_lexer": "ipython3",
   "version": "3.10.2"
  }
 },
 "nbformat": 4,
 "nbformat_minor": 2
}
