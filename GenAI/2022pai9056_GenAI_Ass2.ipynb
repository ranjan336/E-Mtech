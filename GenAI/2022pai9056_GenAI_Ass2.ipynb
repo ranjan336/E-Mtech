{
 "cells": [
  {
   "cell_type": "code",
   "execution_count": 275,
   "metadata": {},
   "outputs": [
    {
     "name": "stdout",
     "output_type": "stream",
     "text": [
      "0       The GeoSolutions technology will leverage Bene...\n",
      "1       $ESI on lows, down $1.50 to $2.50 BK a real po...\n",
      "2       For the last quarter of 2010 , Componenta 's n...\n",
      "3       According to the Finnish-Russian Chamber of Co...\n",
      "4       The Swedish buyout firm has sold its remaining...\n",
      "                              ...                        \n",
      "5837    RISING costs have forced packaging producer Hu...\n",
      "5838    Nordic Walking was first used as a summer trai...\n",
      "5839    According shipping company Viking Line , the E...\n",
      "5840    In the building and home improvement trade , s...\n",
      "5841    HELSINKI AFX - KCI Konecranes said it has won ...\n",
      "Name: Sentence, Length: 5842, dtype: object\n",
      "0       positive\n",
      "1       negative\n",
      "2       positive\n",
      "3        neutral\n",
      "4        neutral\n",
      "          ...   \n",
      "5837    negative\n",
      "5838     neutral\n",
      "5839     neutral\n",
      "5840     neutral\n",
      "5841    positive\n",
      "Name: Sentiment, Length: 5842, dtype: object\n"
     ]
    }
   ],
   "source": [
    "import pandas as pd\n",
    "file_path = r\"C:\\Users\\ranjan.patra\\OneDrive - Lingaro Sp. z o. o\\DATA\\IITJ\\Course\\3rd Sem\\NLP\\Assignment_2\\data.csv\"  # Replace 'path_to_your_file.csv' with the actual path to your CSV file\n",
    "\n",
    "# Read the CSV file into a DataFrame\n",
    "df = pd.read_csv(file_path)\n",
    "\n",
    "# Display the DataFrame\n",
    "print(df.Sentence)\n",
    "print(df.Sentiment)\n"
   ]
  },
  {
   "cell_type": "code",
   "execution_count": null,
   "metadata": {},
   "outputs": [],
   "source": [
    "df.Sentiment.unique"
   ]
  },
  {
   "cell_type": "code",
   "execution_count": null,
   "metadata": {},
   "outputs": [],
   "source": [
    "df.loc[df[\"Sentiment\"] == \"negative\", \"Sentiment\"] = -1\n",
    "df.loc[df[\"Sentiment\"] == \"neutral\", \"Sentiment\"] = 0\n",
    "df.loc[df[\"Sentiment\"] == \"positive\", \"Sentiment\"] = 1"
   ]
  },
  {
   "cell_type": "code",
   "execution_count": null,
   "metadata": {},
   "outputs": [],
   "source": [
    "%pip install keras.preprocessing"
   ]
  },
  {
   "cell_type": "code",
   "execution_count": null,
   "metadata": {},
   "outputs": [],
   "source": [
    "import nltk\n",
    "from nltk.corpus import stopwords\n",
    "from nltk.tokenize import word_tokenize\n",
    "from string import punctuation\n",
    "from gensim.models import Word2Vec\n",
    "\n",
    "import numpy as np\n",
    "import re\n",
    "import numpy as np\n",
    "from sklearn.model_selection import train_test_split\n",
    "from sklearn.feature_extraction.text import CountVectorizer\n",
    "from sklearn.preprocessing import LabelEncoder\n",
    "from sklearn.metrics import accuracy_score, precision_score, recall_score, f1_score\n",
    "from keras.models import Sequential\n",
    "from keras.layers import Dense, Embedding, GlobalAveragePooling1D\n",
    "from keras.preprocessing.sequence import pad_sequences\n",
    "from tensorflow.keras.preprocessing.text import Tokenizer\n",
    "import string\n",
    "\n",
    "\n",
    "\n",
    "# Download NLTK resources\n",
    "nltk.download('punkt')\n",
    "nltk.download('stopwords')\n"
   ]
  },
  {
   "cell_type": "code",
   "execution_count": null,
   "metadata": {},
   "outputs": [],
   "source": [
    "\n",
    "# Tokenize sentences, remove stopwords, and handle punctuation\n",
    "stop_words = set(stopwords.words('english'))\n",
    "\n",
    "def preprocess_text(text):\n",
    "    # Convert to lowercase\n",
    "    text = text.lower()\n",
    "    # Remove punctuation\n",
    "    text = re.sub(r'[^\\w\\s]', '', text)\n",
    "    # Tokenize text\n",
    "    tokens = word_tokenize(text)\n",
    "    # Remove stopwords\n",
    "    tokens = [token for token in tokens if token not in stopwords.words('english')]\n",
    "    return tokens\n",
    "\n",
    "# Preprocess sentences\n",
    "preprocessed_sentences = [preprocess_text(sentence) for sentence in df.Sentence]\n",
    "\n",
    "# Split dataset into training and testing sets\n",
    "X_train, X_test, y_train, y_test = train_test_split(preprocessed_sentences, df.Sentiment, test_size=0.10, random_state=1)\n",
    "print(\"Sample preprocessed data:\")\n",
    "print(preprocessed_sentences[0])\n"
   ]
  },
  {
   "cell_type": "code",
   "execution_count": null,
   "metadata": {},
   "outputs": [],
   "source": [
    "\n",
    "# CBOW Model\n",
    "cbow_model = Word2Vec(sentences=X_train, vector_size=100, window=2, sg=0, min_count=1, workers=4)\n",
    "\n",
    "# Skip-gram Model\n",
    "skipgram_model = Word2Vec(sentences=X_train, vector_size=100, window=2, sg=1, min_count=1, workers=4)\n"
   ]
  },
  {
   "cell_type": "code",
   "execution_count": null,
   "metadata": {},
   "outputs": [],
   "source": [
    "from keras.models import Sequential\n",
    "from keras.layers import Dense, Flatten, Embedding"
   ]
  },
  {
   "cell_type": "code",
   "execution_count": null,
   "metadata": {},
   "outputs": [],
   "source": [
    "# Function to convert sentences into vectors using a trained model\n",
    "def sentence_to_vector(model, sentence):\n",
    "    vector = []\n",
    "    for word in sentence:\n",
    "        if word in model.wv:\n",
    "            vector.append(model.wv[word])\n",
    "    if len(vector) == 0:\n",
    "        vector.append(np.zeros(model.vector_size))\n",
    "    return np.mean(vector, axis=0)\n",
    "\n",
    "# Convert sentences into vectors using CBOW model\n",
    "X_train_cbow = np.array([sentence_to_vector(cbow_model, sentence) for sentence in X_train])\n",
    "X_test_cbow = np.array([sentence_to_vector(cbow_model, sentence) for sentence in X_test])\n",
    "\n",
    "# Convert sentences into vectors using Skip-gram model\n",
    "X_train_skipgram = np.array([sentence_to_vector(skipgram_model, sentence) for sentence in X_train])\n",
    "X_test_skipgram = np.array([sentence_to_vector(skipgram_model, sentence) for sentence in X_test])\n"
   ]
  },
  {
   "cell_type": "code",
   "execution_count": null,
   "metadata": {},
   "outputs": [],
   "source": [
    "\n",
    "# Define NN model architecture\n",
    "model = Sequential()\n",
    "#model.add(Embedding(vocab_size, 100, weights=[embedding_matrix], input_length=max_length, trainable=False))\n",
    "model.add(GlobalAveragePooling1D())\n",
    "model.add(Dense(64, activation='relu'))\n",
    "model.add(Dense(1, activation='sigmoid'))\n",
    "model.compile(optimizer='adam', loss='binary_crossentropy', metrics=['accuracy'])\n",
    " \n",
    "model = Sequential()\n",
    "model.add(Dense(64, activation='relu', input_shape=(100,)))\n",
    "model.add(Dense(32, activation='relu'))\n",
    "model.add(Dense(1, activation='sigmoid'))\n",
    "# Compile the model\n",
    "model.compile(optimizer='adam', loss='binary_crossentropy', metrics=['accuracy'])"
   ]
  },
  {
   "cell_type": "code",
   "execution_count": null,
   "metadata": {},
   "outputs": [],
   "source": [
    "model"
   ]
  },
  {
   "cell_type": "code",
   "execution_count": null,
   "metadata": {},
   "outputs": [],
   "source": [
    "X_test[0]"
   ]
  },
  {
   "cell_type": "code",
   "execution_count": null,
   "metadata": {},
   "outputs": [],
   "source": [
    "X_train_cbow[0]"
   ]
  },
  {
   "cell_type": "code",
   "execution_count": null,
   "metadata": {},
   "outputs": [],
   "source": [
    "y_test"
   ]
  },
  {
   "cell_type": "code",
   "execution_count": null,
   "metadata": {},
   "outputs": [],
   "source": [
    "y_train = y_train.astype('float32')\n",
    "y_test = y_test.astype('float32')"
   ]
  },
  {
   "cell_type": "code",
   "execution_count": null,
   "metadata": {},
   "outputs": [],
   "source": [
    "# Train the model using CBOW vectors\n",
    "model.fit(X_train_cbow, y_train, epochs=20, batch_size=16, validation_data=(X_test_cbow, y_test))\n"
   ]
  },
  {
   "cell_type": "code",
   "execution_count": null,
   "metadata": {},
   "outputs": [],
   "source": [
    "#cbow_embedding_matrix = generate_word_embeddings(X_train, X_test, model_type='cbow')\n",
    "#cbow_model = create_model(cbow_embedding_matrix)\n",
    "#cbow_model.fit(X_train_pad, y_train, epochs=10, batch_size=16, validation_data=(X_test_pad, y_test), verbose=0)\n",
    "cbow_pred = (model.predict(X_train_cbow) > 0.5).astype(\"int32\")\n"
   ]
  },
  {
   "cell_type": "code",
   "execution_count": null,
   "metadata": {},
   "outputs": [],
   "source": [
    "cbow_accuracy = accuracy_score(y_test, cbow_pred)\n",
    "cbow_precision = precision_score(y_test, cbow_pred)\n",
    "cbow_recall = recall_score(y_test, cbow_pred)\n",
    "cbow_f1 = f1_score(y_test, cbow_pred)"
   ]
  },
  {
   "cell_type": "code",
   "execution_count": null,
   "metadata": {},
   "outputs": [],
   "source": [
    "# Train the model using Skip-gram vectors\n",
    "model.fit(X_train_skipgram, y_train, epochs=10, batch_size=16, validation_data=(X_test_skipgram, y_test))\n"
   ]
  }
 ],
 "metadata": {
  "kernelspec": {
   "display_name": "Python 3",
   "language": "python",
   "name": "python3"
  },
  "language_info": {
   "codemirror_mode": {
    "name": "ipython",
    "version": 3
   },
   "file_extension": ".py",
   "mimetype": "text/x-python",
   "name": "python",
   "nbconvert_exporter": "python",
   "pygments_lexer": "ipython3",
   "version": "3.10.2"
  }
 },
 "nbformat": 4,
 "nbformat_minor": 2
}
