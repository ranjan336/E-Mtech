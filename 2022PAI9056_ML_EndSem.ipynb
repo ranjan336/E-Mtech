{
  "nbformat": 4,
  "nbformat_minor": 0,
  "metadata": {
    "colab": {
      "provenance": [],
      "authorship_tag": "ABX9TyPbZ6V3sUdIP9fkBykAe++B",
      "include_colab_link": true
    },
    "kernelspec": {
      "name": "python3",
      "display_name": "Python 3"
    },
    "language_info": {
      "name": "python"
    }
  },
  "cells": [
    {
      "cell_type": "markdown",
      "metadata": {
        "id": "view-in-github",
        "colab_type": "text"
      },
      "source": [
        "<a href=\"https://colab.research.google.com/github/ranjan336/E-Mtech/blob/main/2022PAI9056_ML_EndSem.ipynb\" target=\"_parent\"><img src=\"https://colab.research.google.com/assets/colab-badge.svg\" alt=\"Open In Colab\"/></a>"
      ]
    },
    {
      "cell_type": "code",
      "source": [
        "import numpy as np\n",
        "from scipy.stats import norm\n",
        "\n",
        "# 2. Load the IRIS dataset (you can use sklearn or any other source)\n",
        "from sklearn.datasets import load_iris\n",
        "iris = load_iris()\n",
        "X = iris.data[:, 0]  # SepalLength\n",
        "y = iris.target\n",
        "\n",
        "# 3. Define Gaussian distribution parameters\n",
        "params = {\n",
        "    'Setosa': {'mean': 5, 'variance': 0.34},\n",
        "    'Versicolor': {'mean': 5.93, 'variance': 0.51},\n",
        "    'Virginia': {'mean': 6.98, 'variance': 0.62}\n",
        "}\n",
        "\n",
        "# 4. Define a function to calculate the PDF for a given Gaussian distribution\n",
        "def calculate_pdf(x, mean, variance):\n",
        "    return norm.pdf(x, loc=mean, scale=np.sqrt(variance))\n",
        "\n",
        "# 5. Calculate posterior probabilities\n",
        "x_value = 7\n",
        "posterior_probabilities = {}\n",
        "\n",
        "for class_name, class_params in params.items():\n",
        "    mean = class_params['mean']\n",
        "    variance = class_params['variance']\n",
        "    prior = 1/3  # All classes have equal prior probabilities in this case\n",
        "    likelihood = calculate_pdf(x_value, mean, variance)\n",
        "    posterior = prior * likelihood\n",
        "    posterior_probabilities[class_name] = posterior\n",
        "\n",
        "# Normalize the posterior probabilities\n",
        "total_posterior = sum(posterior_probabilities.values())\n",
        "for class_name in posterior_probabilities:\n",
        "    posterior_probabilities[class_name] /= total_posterior\n",
        "\n",
        "# 6. Verify the results\n",
        "print(\"Posterior Probabilities:\")\n",
        "for class_name, posterior in posterior_probabilities.items():\n",
        "    print(f\"P(X={x_value}, Y={class_name}): {posterior:.4f}\")\n",
        "\n",
        "# Check if the sum of probabilities equals 1 (due to normalization)\n",
        "assert np.isclose(sum(posterior_probabilities.values()), 1.0)\n"
      ],
      "metadata": {
        "colab": {
          "base_uri": "https://localhost:8080/"
        },
        "id": "rnTkpyi3FjhV",
        "outputId": "5000b2be-bf7d-46d2-aa97-06414035a380"
      },
      "execution_count": 5,
      "outputs": [
        {
          "output_type": "stream",
          "name": "stdout",
          "text": [
            "Posterior Probabilities:\n",
            "P(X=7, Y=Setosa): 0.0028\n",
            "P(X=7, Y=Versicolor): 0.2634\n",
            "P(X=7, Y=Virginia): 0.7338\n"
          ]
        }
      ]
    }
  ]
}