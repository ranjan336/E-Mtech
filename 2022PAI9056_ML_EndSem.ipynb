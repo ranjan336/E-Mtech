{
  "nbformat": 4,
  "nbformat_minor": 0,
  "metadata": {
    "colab": {
      "provenance": [],
      "authorship_tag": "ABX9TyMDwCY8gvfvgnFTEhxKkc9P",
      "include_colab_link": true
    },
    "kernelspec": {
      "name": "python3",
      "display_name": "Python 3"
    },
    "language_info": {
      "name": "python"
    }
  },
  "cells": [
    {
      "cell_type": "markdown",
      "metadata": {
        "id": "view-in-github",
        "colab_type": "text"
      },
      "source": [
        "<a href=\"https://colab.research.google.com/github/ranjan336/E-Mtech/blob/main/2022PAI9056_ML_EndSem.ipynb\" target=\"_parent\"><img src=\"https://colab.research.google.com/assets/colab-badge.svg\" alt=\"Open In Colab\"/></a>"
      ]
    },
    {
      "cell_type": "code",
      "source": [
        "import numpy as np\n",
        "from sklearn import datasets\n",
        "\n",
        "# Load the IRIS dataset\n",
        "iris = datasets.load_iris()\n",
        "X = iris.data  # Features\n",
        "Y = iris.target  # Target variable\n",
        "\n",
        "# Given means and variances for Setosa, Versicolor, and Virginia\n",
        "class_params = {\n",
        "    'Setosa': (5, 0.34),\n",
        "    'Versicolor': (5.93, 0.51),\n",
        "    'Virginia': (6.98, 0.62)\n",
        "}\n",
        "\n",
        "# Define the Gaussian probability density function\n",
        "def gaussian_pdf(x, mean, variance):\n",
        "    return (1 / (np.sqrt(2 * np.pi * variance)) * np.exp(-((x - mean) ** 2) / (2 * variance)))\n",
        "\n",
        "# Calculate the posterior probabilities for each class\n",
        "posterior_probabilities = {}\n",
        "for class_name, (mean, variance) in class_params.items():\n",
        "    prior = 1 / len(class_params)  # Equiprobability for all classes\n",
        "    likelihood = gaussian_pdf(7, mean, variance)\n",
        "    posterior = likelihood * prior\n",
        "    posterior_probabilities[class_name] = posterior\n",
        "\n",
        "# Normalize the posterior probabilities\n",
        "total_posterior = sum(posterior_probabilities.values())\n",
        "for class_name in posterior_probabilities:\n",
        "    posterior_probabilities[class_name] /= total_posterior\n",
        "\n",
        "# Print the results\n",
        "for class_name, posterior in posterior_probabilities.items():\n",
        "    print(f'P(X=7, Y={class_name}) = {posterior:.4f}')\n",
        "\n",
        "# Verification\n",
        "sum_posterior = sum(posterior_probabilities.values())\n",
        "print(f'Sum of posterior probabilities: {sum_posterior:.4f}')\n"
      ],
      "metadata": {
        "colab": {
          "base_uri": "https://localhost:8080/"
        },
        "id": "FHg4w7r4EQlE",
        "outputId": "e87b7719-e8a4-41c7-ebba-bec3f5b68edb"
      },
      "execution_count": 4,
      "outputs": [
        {
          "output_type": "stream",
          "name": "stdout",
          "text": [
            "P(X=7, Y=Setosa) = 0.0028\n",
            "P(X=7, Y=Versicolor) = 0.2634\n",
            "P(X=7, Y=Virginia) = 0.7338\n",
            "Sum of posterior probabilities: 1.0000\n"
          ]
        }
      ]
    }
  ]
}